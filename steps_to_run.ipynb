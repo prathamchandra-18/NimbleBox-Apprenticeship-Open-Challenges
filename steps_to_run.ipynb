{
 "cells": [
  {
   "cell_type": "markdown",
   "id": "ff8166ac",
   "metadata": {},
   "source": [
    "# Instructions\n",
    "These instructions provide guidance on training an LLM using Netflix titles data and setting up an API to interact with it, allowing us to obtain a response to a prompt using a CURL command"
   ]
  },
  {
   "cell_type": "markdown",
   "id": "58e27a7d",
   "metadata": {},
   "source": [
    "### trainer.py\n",
    "The directory includes a file named \"trainer.py\" that is utilized for training the model using the provided dataset. The dataset, stored in the directory as \"netflix_titles.csv,\" is in CSV format. Our model is trained solely using the description column from the CSV file.\n",
    "\n",
    "To initiate the training process, the \"trainer.py\" file needs to be executed, specifying the file path of the dataset using the 'fp' argument and the desired learning rate using the 'lr' argument.\n",
    "\n",
    "To execute the \"trainer.py\" file, use the following command:"
   ]
  },
  {
   "cell_type": "code",
   "execution_count": null,
   "id": "79bfd7f1",
   "metadata": {},
   "outputs": [],
   "source": [
    "!python trainer.py --fp 'netflix_titles.csv' --lr 0.001"
   ]
  },
  {
   "cell_type": "markdown",
   "id": "51d330d7",
   "metadata": {},
   "source": [
    "The training process will commence, and the resulting weights and configuration file will be stored in the \"/out/netflixdata\" directory. \n",
    "\n",
    "### server.py\n",
    "With the training completed, we can proceed to perform inference on the model by utilizing the \"server.py\" file. To launch the server, execute the following command:"
   ]
  },
  {
   "cell_type": "code",
   "execution_count": null,
   "id": "0564031d",
   "metadata": {},
   "outputs": [],
   "source": [
    "!python -m uvicorn server:app --reload"
   ]
  },
  {
   "cell_type": "markdown",
   "id": "0898a533",
   "metadata": {},
   "source": [
    "After starting the server, we can use the curl command to send a request and obtain an output from it"
   ]
  },
  {
   "cell_type": "code",
   "execution_count": null,
   "id": "36dbd470",
   "metadata": {},
   "outputs": [],
   "source": [
    "!set json={\"text\": \"NimbleBox!\", \"max_length\": 1000}\n",
    "!curl -i -X POST -H \"Content-Type: application/json\" -d \"%json:\"=\\\"%\" http://127.0.0.1:8000/generatetext"
   ]
  },
  {
   "cell_type": "markdown",
   "id": "1a1f2826",
   "metadata": {},
   "source": [
    "Now, let's move on to the aspect of implementing multithreading for stress testing and enhancing the performance of our model when using the command-line interface (CLI)\n",
    "\n",
    "### test.py\n",
    "\n",
    "Implemented a mechanism in \"test.py\" that utilizes multithreading to simulate multiple concurrent requests to the server. This stress testing approach helps evaluate the server's performance and assess its ability to handle a high volume of requests simultaneously. \n",
    "For stress testing, we can use this command:"
   ]
  },
  {
   "cell_type": "code",
   "execution_count": null,
   "id": "601f119a",
   "metadata": {},
   "outputs": [],
   "source": [
    "!python test.py --url http://127.0.0.1:8000/generatetext --threads 10 --requests 10 --max_length 500"
   ]
  },
  {
   "cell_type": "markdown",
   "id": "7a642ebe",
   "metadata": {},
   "source": [
    "To enable multi-threaded inference from our model, we can utilize the following command"
   ]
  },
  {
   "cell_type": "code",
   "execution_count": null,
   "id": "7b35f84a",
   "metadata": {},
   "outputs": [],
   "source": [
    "!python test.py --url http://127.0.0.1:8000/generatetext --messages \"This\" \"is\" \"my\" \"Assignment\" \"for\" \"NimbleBox\" \"Internship\" --max_length 500"
   ]
  }
 ],
 "metadata": {
  "kernelspec": {
   "display_name": "Python 3 (ipykernel)",
   "language": "python",
   "name": "python3"
  },
  "language_info": {
   "codemirror_mode": {
    "name": "ipython",
    "version": 3
   },
   "file_extension": ".py",
   "mimetype": "text/x-python",
   "name": "python",
   "nbconvert_exporter": "python",
   "pygments_lexer": "ipython3",
   "version": "3.9.12"
  }
 },
 "nbformat": 4,
 "nbformat_minor": 5
}
